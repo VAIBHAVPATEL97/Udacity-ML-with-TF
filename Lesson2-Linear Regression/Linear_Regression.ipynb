{
  "nbformat": 4,
  "nbformat_minor": 0,
  "metadata": {
    "colab": {
      "name": "Linear Regression.ipynb",
      "provenance": [],
      "authorship_tag": "ABX9TyOGRQi4IG1SfkTahb+N/VJB"
    },
    "kernelspec": {
      "name": "python3",
      "display_name": "Python 3"
    },
    "language_info": {
      "name": "python"
    }
  },
  "cells": [
    {
      "cell_type": "markdown",
      "source": [
        "# Linear Regression - Supervised Machine learning\n",
        "Predictive machine learning consists of two algorithms namely classification and regression. We will study linear regression in this notebook. Regression predicts the numerical values of the problem. E.g. How much will be the house price in near future if the past or historical values of houses is provided to train the regression algorithm.\n",
        "\n",
        "Linear regression is a linear model. e.g. a model that assumes a linear relationship between the input variables (x) and the single output variable (y)[2]. In linear regression our goal is to try to fit the line in a set of points such that line is nearest to all the set of points on the X-Y plane (for 2D space).Figure 1 tries to illustrate the concept. *Note-* Linear regression can be expanded on to N-dimensional. Don't worry if the concept is not clear we will be writing hands-on code for linear regression this will clear the concepts.\n",
        "<figure>\n",
        "   <img src=\"https://drive.google.com/uc?export=view&id=1Zfo_OG0cu_g5pkWKyso6h8MWTbc647fl\" align = \"center width = \"550px\">\n",
        "      <figcaption align = \"center\"> Figure 1: Linear Regression Concept[1] \n",
        "  </figcaption>\n",
        "</figure>\n",
        "\n",
        "\n",
        " Linear regression can be represented by the following equation. \n",
        "\n",
        "```\n",
        "y = w1x + w2   ... w1 is slope and w2 is y-intercept\n",
        "```\n",
        "*Tips for moving line in the 2D space*\n",
        "1. If w1 is increased the line rotates anticlockwise and if w1 is decreased the line rotates clockwise\n",
        "2. f w2 is increased the line moves parallely upwards and if w2 is decreased then it moves downwards\n",
        "\n",
        "#### Absolute Trick\n",
        "This trick is used to move line closer to the point. Suppose if there is a point (p,q) in the 2D space if we want to move line closer to the point. We can add or subtract the coordinates of the points in slope and y-intercept to move line closer to the point.\n",
        "\n",
        "Learning rate (α) is a small number. We use this to avoid large steps of moving the line. The reason is if we take large steps there is always a possibility of missing the point and moving ahead. This will waste time and computation power so we take baby steps to reach to the points.\n",
        "\n",
        "1. If initial point location is *above* the line then we *add* the coordinate to the slope and y-intercept. So, the equation becomes.\n",
        "\n",
        "```\n",
        "y = (w1 + αp)x + (w2 +\tα) ... where \tα is learning rate\n",
        "\n",
        "```\n",
        "2.  If initial point location is *below* the line then we *subtract* the coordinate to the slope and y-intercept. So, the equation becomes.\n",
        "\n",
        "```\n",
        "y = (w1 - αp)x + (w2 - α) ... where \tα is learning rate\n",
        "\n",
        "```\n",
        "Above equations works well even if the points are on the negative quadrant of the 2D plane. Reason to add or subtract the coordinate 'p' to the slope because depending on the 'p' value the slope of the line will automatically adjusted. if 'p' value is large then slope change will be large and if 'p' value is small slope change will be small.\n",
        "\n",
        "\n",
        "*References*\n",
        "1. Udacity Machine learning with Tensorflow course.\n",
        "2. [Linear Regression for Machine Learning](https://machinelearningmastery.com/linear-regression-for-machine-learning/)\n"
      ],
      "metadata": {
        "id": "v5xnTmrpSy-E"
      }
    },
    {
      "cell_type": "code",
      "execution_count": null,
      "metadata": {
        "id": "aQ-UsxJQRJeX"
      },
      "outputs": [],
      "source": [
        ""
      ]
    }
  ]
}