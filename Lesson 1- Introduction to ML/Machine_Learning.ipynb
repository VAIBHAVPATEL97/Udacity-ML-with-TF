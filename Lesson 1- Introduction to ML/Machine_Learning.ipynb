{
  "nbformat": 4,
  "nbformat_minor": 0,
  "metadata": {
    "colab": {
      "name": "Machine Learning.ipynb",
      "provenance": [],
      "collapsed_sections": [],
      "authorship_tag": "ABX9TyPpW6OQ4TMSzhkXXxPrWV4J",
      "include_colab_link": true
    },
    "kernelspec": {
      "name": "python3",
      "display_name": "Python 3"
    },
    "language_info": {
      "name": "python"
    }
  },
  "cells": [
    {
      "cell_type": "markdown",
      "metadata": {
        "id": "view-in-github",
        "colab_type": "text"
      },
      "source": [
        "<a href=\"https://colab.research.google.com/github/VAIBHAVPATEL97/Udacity-ML-with-TF/blob/main/Lesson%201-%20Introduction%20to%20ML/Machine_Learning.ipynb\" target=\"_parent\"><img src=\"https://colab.research.google.com/assets/colab-badge.svg\" alt=\"Open In Colab\"/></a>"
      ]
    },
    {
      "cell_type": "markdown",
      "source": [
        "# Introduction to Machine Learning\n",
        "\n",
        "### Machine Learning can be divided into three branches.\n",
        "\n",
        "\n",
        "*  Supervised Learning\n",
        "*  Unsupervised Learning\n",
        "*  Reinforcement Learning\n",
        "\n",
        "\n",
        "\n",
        "##1.   Supervised Learning \n",
        "\n",
        "In supervised learning, algorithm learns from the labelled data. After studying the labelled data, these techniques are able to determine the which label should be given new data based on observing patterns and associating those patterns with the new unlabeled data.\n",
        "\n",
        "Supervised Learning can be further divided into two categories.\n",
        "\n",
        "\n",
        "####1.1   Classification\n",
        "Classification models predict a category that an item belongs to. There is general assumption that classification algorithms are used for binary classification e.g. Email is spam or not spam. However, this assumption is false. Classification algorithms can be extended to predict any number of categories E.g. Dog breed classification.\n",
        "####1.2   Regression\n",
        "Regression models predicts a numerical values. E.g. prediction of house prices or height prediction.\n",
        "\n",
        "\n",
        "\n",
        "\n",
        "## 2. Unsupervised Learning\n",
        "In unsupervised learning, creates the models when there are no preexisting labels to train on. Hence, the name unsupervised learning. Applications which are based on unsupervised learning are recommendation system, reducing dataset to fewer number of useful features. \n",
        "\n",
        "##3. Reinforcement Learning\n",
        "\n",
        "In reinforcement learning, the algorithms are trained based on taking certain action and receiving the rewards if its correct. Applications include self-driving cars and game playing agents.\n",
        "\n"
      ],
      "metadata": {
        "id": "r2i-VT4fTf3n"
      }
    },
    {
      "cell_type": "markdown",
      "source": [
        "#Deep Learning\n",
        "Deep Learning (DL) can be introduced as improved version of the Machine Learning (ML).DL algorithms can be used for all the categories of machine learning (namely supervised, unsupervised and reinforcement learning). DL algorithms has improved prediction performance as compared to ML but there are also some barriers of this technique. Some of the barriers are mentioned below.\n",
        "\n",
        "\n",
        "\n",
        "*   Requires more training data\n",
        "*   More computation resources\n",
        "*   No specific explation to  why certain decision was taking by the DL algorithms due to the complexity and flexibility of the algorithms\n",
        "\n",
        "Due to the above shortcomings, not every application of ML requires DL. Tensorflow and Scikit-learn are two most popular open-source libraries in the world for ML.\n",
        "\n",
        "# Ethics in ML\n",
        "\n",
        "Data provided for training the ML algoritms plays an significant role in decision the behaviour of the algorithm during inference. So, if the data provided has some errors and biases same properties of the data will be summarized by the ML algorithm. As the data can be in form of text, speech, images or videos are all created by the humans and will definetely have some hidden biases. So, to eliminate the biases we can generate synthetic data (More on this later) to bridge the gap and make the ML algorithms robust and accurate for the inference.\n",
        "\n",
        "Read more about Ethics in AI by Google AI [here](https://ai.google/responsibilities/responsible-ai-practices/?category=fairness).\n",
        "\n"
      ],
      "metadata": {
        "id": "LPm75gMTIx6b"
      }
    }
  ]
}