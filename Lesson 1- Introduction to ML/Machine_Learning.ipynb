{
  "nbformat": 4,
  "nbformat_minor": 0,
  "metadata": {
    "colab": {
      "name": "Machine Learning.ipynb",
      "provenance": [],
      "collapsed_sections": [],
      "authorship_tag": "ABX9TyMFFmC/kaaqIuP9TZaAwhcB",
      "include_colab_link": true
    },
    "kernelspec": {
      "name": "python3",
      "display_name": "Python 3"
    },
    "language_info": {
      "name": "python"
    }
  },
  "cells": [
    {
      "cell_type": "markdown",
      "metadata": {
        "id": "view-in-github",
        "colab_type": "text"
      },
      "source": [
        "<a href=\"https://colab.research.google.com/github/VAIBHAVPATEL97/Udacity-ML-with-TF/blob/main/Lesson%201-%20Introduction%20to%20ML/Machine_Learning.ipynb\" target=\"_parent\"><img src=\"https://colab.research.google.com/assets/colab-badge.svg\" alt=\"Open In Colab\"/></a>"
      ]
    },
    {
      "cell_type": "markdown",
      "source": [
        "# Introduction to Machine Learning\n",
        "\n",
        "### Machine Learning can be divided into three branches.\n",
        "\n",
        "\n",
        "*  Supervised Learning\n",
        "*  Unsupervised Learning\n",
        "*  Reinforcement Learning\n",
        "\n",
        "\n",
        "\n",
        "##1.   Supervised Learning \n",
        "\n",
        "In supervised learning, algorithm learns from the labelled data. After studying the labelled data, these techniques are able to determine the which label should be given new data based on observing patterns and associating those patterns with the new unlabeled data.\n",
        "\n",
        "Supervised Learning can be further divided into two categories.\n",
        "\n",
        "\n",
        "####1.1   Classification\n",
        "Classification models predict a category that an item belongs to. There is general assumption that classification algorithms are used for binary classification e.g. Email is spam or not spam. However, this assumption is false. Classification algorithms can be extended to predict any number of categories E.g. Dog breed classification.\n",
        "###2.   Regression\n",
        "\n",
        "\n",
        "\n",
        "\n",
        "2.   List item\n",
        "\n",
        "\n",
        "\n"
      ],
      "metadata": {
        "id": "r2i-VT4fTf3n"
      }
    },
    {
      "cell_type": "code",
      "execution_count": null,
      "metadata": {
        "id": "jcJRTfP0TTla"
      },
      "outputs": [],
      "source": [
        ""
      ]
    }
  ]
}